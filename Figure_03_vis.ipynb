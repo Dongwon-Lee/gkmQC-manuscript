{
 "cells": [
  {
   "cell_type": "markdown",
   "metadata": {},
   "source": [
    "# Figure 3: Fine-mapping and LDSC analysis of HQ versus LQ samples"
   ]
  },
  {
   "cell_type": "code",
   "execution_count": 1,
   "metadata": {
    "execution": {
     "iopub.execute_input": "2021-10-06T03:52:43.154802Z",
     "iopub.status.busy": "2021-10-06T03:52:43.154357Z",
     "iopub.status.idle": "2021-10-06T03:52:45.171585Z",
     "shell.execute_reply": "2021-10-06T03:52:45.170403Z",
     "shell.execute_reply.started": "2021-10-06T03:52:43.154745Z"
    }
   },
   "outputs": [
    {
     "name": "stdout",
     "output_type": "stream",
     "text": [
      "Populating the interactive namespace from numpy and matplotlib\n"
     ]
    }
   ],
   "source": [
    "# Import basic stuffs\n",
    "\n",
    "import os, sys, re, glob\n",
    "import numpy as np\n",
    "import pandas as pd\n",
    "import matplotlib\n",
    "import matplotlib.pyplot as plt\n",
    "matplotlib.rcParams['pdf.fonttype'] = 42\n",
    "matplotlib.rcParams['ps.fonttype'] = 42\n",
    "import seaborn as sns\n",
    "%pylab inline"
   ]
  },
  {
   "cell_type": "code",
   "execution_count": 2,
   "metadata": {
    "execution": {
     "iopub.execute_input": "2021-10-06T03:52:45.176457Z",
     "iopub.status.busy": "2021-10-06T03:52:45.176043Z",
     "iopub.status.idle": "2021-10-06T03:52:45.216687Z",
     "shell.execute_reply": "2021-10-06T03:52:45.215106Z",
     "shell.execute_reply.started": "2021-10-06T03:52:45.176414Z"
    }
   },
   "outputs": [
    {
     "name": "stdout",
     "output_type": "stream",
     "text": [
      "Load ENCODE metadata table\n",
      "Load ENTEx tissue-quality mapping\n"
     ]
    }
   ],
   "source": [
    "# Load Basic analytic data for gkmQC paper\n",
    "# exec(open(\"../scripts/__scratch__basic_import.py\").read())\n",
    "\n",
    "import pickle\n",
    "\n",
    "### ENCODE & roadmap info\n",
    "## All ENCODE metadata\n",
    "print(\"Load ENCODE metadata table\")\n",
    "encode_df = pd.read_table(\"../data/encode_metadata_info_latest.txt\", index_col=\"acc_peak\")\n",
    "\n",
    "# Load sample id sample types dictionary\n",
    "f = open(\"../data/sid_stype_dic.pkl\", \"rb\")\n",
    "sid_stype_dic = pickle.load(f)\n",
    "f.close()\n",
    "encode_df.loc[:, \"sample_abbr\"] = encode_df[\"acc_sample\"].map(sid_stype_dic)\n",
    "#for param, analysis_dict in zip(param_list, analysis_dict_list):\n",
    "#    encode_df.loc[:,param] = encode_df.index.map(analysis_dict)\n",
    "\n",
    "## ENTEx tissue info data\n",
    "print(\"Load ENTEx tissue-quality mapping\")\n",
    "entex_df = pd.read_table(\"../data/entx_tissue_info.txt\", index_col=\"fid\")"
   ]
  },
  {
   "cell_type": "markdown",
   "metadata": {},
   "source": [
    "## Basic parameters\n",
    "(1) dAUC, SPOT2, peak/read counts, m-value"
   ]
  },
  {
   "cell_type": "code",
   "execution_count": 3,
   "metadata": {
    "execution": {
     "iopub.execute_input": "2021-10-06T03:52:47.335116Z",
     "iopub.status.busy": "2021-10-06T03:52:47.334745Z",
     "iopub.status.idle": "2021-10-06T03:52:47.560906Z",
     "shell.execute_reply": "2021-10-06T03:52:47.559968Z",
     "shell.execute_reply.started": "2021-10-06T03:52:47.335084Z"
    }
   },
   "outputs": [],
   "source": [
    "import pickle, requests, json\n",
    "headers = {'accept': 'application/json'}\n",
    "\n",
    "## SPOT2 scores\n",
    "spot2_dic_pkl_file = \"../data/prefix_spot2_dic.pkl\"\n",
    "f = open(spot2_dic_pkl_file, \"rb\")\n",
    "prefix_spot2_dic = pickle.load(f)\n",
    "f.close()\n",
    "\n",
    "# Read counts\n",
    "readc_dic_pkl_file = \"../data/prefix_readc_dic.pkl\"\n",
    "f = open(readc_dic_pkl_file, \"rb\")\n",
    "prefix_readc_dic = pickle.load(f)\n",
    "f.close()\n",
    "\n",
    "# peak count dic\n",
    "prefix_pcount_dic_pkl = \"../data/prefix_pcount_dic.pkl\"\n",
    "f = open(prefix_pcount_dic_pkl, \"rb\")\n",
    "prefix_pcount_dic = pickle.load(f)\n",
    "f.close()\n",
    "    \n",
    "# peak specificity\n",
    "f = open(\"../data/prefix_ps_dic.pkl\", \"rb\")\n",
    "prefix_ps_dic = pickle.load(f)\n",
    "f.close()\n",
    "    \n",
    "# dAUC\n",
    "prefix_dauc_dic_pkl = \"../data/prefix_dauc_dic.pkl\"\n",
    "f = open(prefix_dauc_dic_pkl, \"rb\")\n",
    "prefix_dauc_dic = pickle.load(f)\n",
    "f.close()\n",
    "    \n",
    "# new gkmQC\n",
    "# score1 = (1 - auc_min/auc_max) / n\n",
    "# score2 = (auc_max ** 2 - auc_min ** 2) / n\n",
    "# score3 = (auc_max - auc_min) / ((auc_max + auc_min) * n)\n",
    "# score4 = ((auc_max + auc_min) / 2 * n) / (auc_max - auc_min)\n",
    "# score5 = sum(auc_scores) / (auc_max - auc_min)\n",
    "\n",
    "prefix_gkmqc_dic_pkl = \"../data/prefix_gkmqc_dic.pkl\"\n",
    "f = open(prefix_gkmqc_dic_pkl, \"rb\")\n",
    "prefix_gkmqc_dic = pickle.load(f)\n",
    "f.close()"
   ]
  },
  {
   "cell_type": "code",
   "execution_count": 8,
   "metadata": {
    "collapsed": true,
    "execution": {
     "iopub.execute_input": "2020-09-24T21:53:17.659832Z",
     "iopub.status.busy": "2020-09-24T21:53:17.659502Z",
     "iopub.status.idle": "2020-09-24T21:53:25.808180Z",
     "shell.execute_reply": "2020-09-24T21:53:25.806709Z",
     "shell.execute_reply.started": "2020-09-24T21:53:17.659793Z"
    },
    "jupyter": {
     "outputs_hidden": true,
     "source_hidden": true
    }
   },
   "outputs": [
    {
     "name": "stdout",
     "output_type": "stream",
     "text": [
      "ENCFF153WQN\n",
      "The history saving thread hit an unexpected error (OperationalError('unable to open database file')).History will not be written to the database.\n",
      "ENCFF183AEI\n",
      "ENCFF578BEO\n",
      "ENCFF812GJU\n",
      "ENCFF765BJR\n",
      "ENCFF036JUB\n",
      "ENCFF484XHW\n",
      "ENCFF270GNM\n",
      "ENCFF402THI\n",
      "ENCFF305WVB\n",
      "ENCFF932ATD\n",
      "ENCFF916NTG\n",
      "ENCFF845VOI\n",
      "ENCFF418BQS\n",
      "ENCFF579PHD\n",
      "ENCFF281XUZ\n",
      "ENCFF018UIV\n",
      "ENCFF787FBC\n",
      "ENCFF973CLH\n",
      "ENCFF292LZY\n",
      "ENCFF804HVH\n",
      "ENCFF003GPD\n",
      "ENCFF603QCZ\n",
      "ENCFF870ASQ\n",
      "ENCFF426FAC\n",
      "ENCFF929WJR\n",
      "ENCFF137EPX\n",
      "ENCFF717QSC\n",
      "ENCFF727HFV\n",
      "ENCFF416QZR\n",
      "ENCFF047CHH\n",
      "ENCFF682RBA\n",
      "ENCFF246POE\n",
      "ENCFF871EKB\n",
      "ENCFF262FHU\n"
     ]
    }
   ],
   "source": [
    "import subprocess\n",
    "lo_file = \"/reference_databases/ReferenceGenome/liftover_chain/hg38/hg38ToHg19.over.chain.gz\"\n",
    "\n",
    "def hist_norm_weight(inputs):\n",
    "    weights = list(map(lambda x: np.ones_like(x) / float(len(x)), inputs))\n",
    "    return weights\n",
    "\n",
    "chr_list = list(map(lambda x: \"chr\" + str(x), range(1, 23)))\n",
    "def calc_peak_specificity_list(r):\n",
    "    peak_shortest_dist_dic = {}\n",
    "    r_lines = r.split('\\n')\n",
    "    for line in r_lines:\n",
    "        line_tab = line.split('\\t')\n",
    "        if line_tab[3] == '.':    \n",
    "            continue\n",
    "        query_peak_acc = (line_tab[0], int(line_tab[1]), int(line_tab[2]))  \n",
    "        targt_peak_acc = (line_tab[3], int(line_tab[4]), int(line_tab[5]))\n",
    "        if line_tab[0] != line_tab[3]:\n",
    "            continue    \n",
    "        shortest_dist = np.inf\n",
    "        if query_peak_acc in peak_shortest_dist_dic:\n",
    "            shortest_dist = peak_shortest_dist_dic[query_peak_acc]\n",
    "        query_summit = int((query_peak_acc[1] + query_peak_acc[2])/2)\n",
    "        targt_summit = int((targt_peak_acc[1] + targt_peak_acc[2])/2)\n",
    "        curr_dist = abs(query_summit - targt_summit)\n",
    "        if curr_dist < shortest_dist:\n",
    "            peak_shortest_dist_dic[query_peak_acc] = curr_dist\n",
    "    return peak_shortest_dist_dic\n",
    "\n",
    "## Fine-mapping variants\n",
    "egfr_fmapping = \"../data/egfr_fine_mapping_e300.bed\"\n",
    "#egfr_fmapping = \"../data/egfr_fm_pstr50_e300.bed\"\n",
    "#egfr_fmapping = \"../data/egfr_eqtl_coloc_mapping_e300.bed\"\n",
    "prefix_fmapping_dist_dic = {}\n",
    "prefix_fmapping_cnt_dic = {}\n",
    "prefix_fmapping_dic_dic = {}\n",
    "for test_acc in sample_dic['embryos_kidney']:\n",
    "    print(test_acc)\n",
    "    peak_dir = \"../analysis/encode_dnase_seq_bed/%s.gkmqc\" % test_acc\n",
    "    peak_file = os.path.join(peak_dir, \"%s_hg19_peaks.bed\" % test_acc)\n",
    "    peak_nrpk = os.path.join(peak_dir, \"%s_hg19_peaks.narrowPeak\" % test_acc)\n",
    "    #peak_obed = os.path.join(peak_dir, \"%s.e300.qc.bed\" % test_acc)\n",
    "    #peak_5file = os.path.join(peak_dir, \"%s_hg19.5.e300.qc.bed\" % test_acc)\n",
    "    #peak_file = os.path.join(peak_dir, \"%s_hg19.e300.qc.bed\" % test_acc)\n",
    "    if not os.path.isfile(peak_file):\n",
    "        os.system(\"cat %s | cut -f 1,2,3 > %s\" % (peak_nrpk, peak_file))\n",
    "        #os.system(\"liftOver -bedPlus=3 %s %s %s %s_unlifted\" % (peak_obed, lo_file, peak_5file, peak_5file))\n",
    "        #os.system(\"cat %s | cut -f 1,2,3 > %s\" % (peak_5file, peak_file))\n",
    "    r = subprocess.getoutput(\"bedtools intersect -b %s -a %s -wao\" % (peak_file, egfr_fmapping))\n",
    "    r_dic = calc_peak_specificity_list(r)\n",
    "    li = list(r_dic.values())\n",
    "    prefix_fmapping_dist_dic[test_acc] = np.median(li)\n",
    "    prefix_fmapping_cnt_dic[test_acc] = len(li)\n",
    "    prefix_fmapping_dic_dic[test_acc] = r_dic"
   ]
  },
  {
   "cell_type": "markdown",
   "metadata": {},
   "source": [
    "## Figure 3b - dAUC vs Fine mapping variants\n",
    "(2) try with \"distance from centroid of putative regulatory peak fall into tag SNP of fine-mapping variants\""
   ]
  },
  {
   "cell_type": "code",
   "execution_count": 11,
   "metadata": {
    "execution": {
     "iopub.execute_input": "2020-09-27T05:11:44.113006Z",
     "iopub.status.busy": "2020-09-27T05:11:44.112658Z",
     "iopub.status.idle": "2020-09-27T05:14:22.630966Z",
     "shell.execute_reply": "2020-09-27T05:14:22.629381Z",
     "shell.execute_reply.started": "2020-09-27T05:11:44.112969Z"
    },
    "jupyter": {
     "source_hidden": true
    },
    "scrolled": true
   },
   "outputs": [],
   "source": [
    "# Load variant list\n",
    "f = open(\"../data/fine_mapping_variants_pp50.txt\")\n",
    "fv_list = f.read().split()\n",
    "f.close()\n",
    "\n",
    "import requests, json\n",
    "from io import StringIO\n",
    "headers = {'accept': 'application/json'}\n",
    "\n",
    "fo = open(\"../data/eGFR_fv_hap_1kb_pad.bed\", \"w\")\n",
    "for rs_id in fv_list:\n",
    "    #url = 'https://ldlink.nci.nih.gov/LDlinkRest/ldproxy?var=%s&pop=CEU%%2BTSI%%2BFIN%%2BGBR%%2BIBS&r2_d=r2&window=10000&token=3047e331965d' % rs_id\n",
    "    url = 'https://ldlink.nci.nih.gov/LDlinkRest/ldproxy?var=%s&pop=YRI%%2BLWK%%2BGWD%%2BMSL%%2BESN%%2BASW%%2BACB%%2BMXL%%2BPUR%%2BCLM%%2BPEL%%2BCHB%%2BJPT%%2BCHS%%2BCDX%%2BKHV%%2BCEU%%2BTSI%%2BFIN%%2BGBR%%2BIBS%%2BGIH%%2BPJL%%2BBEB%%2BSTU%%2BITU&r2_d=r2&window=10000&token=3047e331965d' % rs_id\n",
    "    f = StringIO(requests.get(url, headers=headers).text)\n",
    "    df = pd.read_table(f, sep='\\t')\n",
    "    f.close()\n",
    "    df_sub = df[df[\"R2\"] >= 0.8]\n",
    "    ld_reg = sorted(list(map(lambda x: int(x.split(':')[1]), df_sub[\"Coord\"])))\n",
    "    chrs = df_sub[\"Coord\"][0].split(':')[0]\n",
    "    #print('\\t'.join([rs_id, chrs, str(ld_reg[0] - 1000), str(ld_reg[-1] + 1000), \"%dbp\" % (ld_reg[-1] - ld_reg[0] + 2000)]))\n",
    "    fo.write(\"%s\\t%d\\t%d\\n\" % (chrs, ld_reg[0] - 1000, ld_reg[-1] + 1000))\n",
    "fo.close()"
   ]
  },
  {
   "cell_type": "code",
   "execution_count": 6,
   "metadata": {
    "collapsed": true,
    "execution": {
     "iopub.execute_input": "2020-09-28T04:37:13.671737Z",
     "iopub.status.busy": "2020-09-28T04:37:13.671234Z",
     "iopub.status.idle": "2020-09-28T04:37:20.547251Z",
     "shell.execute_reply": "2020-09-28T04:37:20.546041Z",
     "shell.execute_reply.started": "2020-09-28T04:37:13.671671Z"
    },
    "jupyter": {
     "outputs_hidden": true,
     "source_hidden": true
    }
   },
   "outputs": [
    {
     "name": "stdout",
     "output_type": "stream",
     "text": [
      "concatenate\n",
      "ENCFF153WQN\n",
      "ENCFF183AEI\n",
      "ENCFF578BEO\n",
      "ENCFF812GJU\n",
      "ENCFF765BJR\n",
      "ENCFF036JUB\n",
      "ENCFF484XHW\n",
      "ENCFF270GNM\n",
      "ENCFF402THI\n",
      "ENCFF305WVB\n",
      "ENCFF932ATD\n",
      "ENCFF916NTG\n",
      "ENCFF845VOI\n",
      "ENCFF418BQS\n",
      "ENCFF579PHD\n",
      "ENCFF281XUZ\n",
      "ENCFF018UIV\n",
      "ENCFF787FBC\n",
      "ENCFF973CLH\n",
      "ENCFF292LZY\n",
      "ENCFF804HVH\n",
      "ENCFF003GPD\n",
      "ENCFF603QCZ\n",
      "ENCFF870ASQ\n",
      "ENCFF426FAC\n",
      "ENCFF929WJR\n",
      "ENCFF137EPX\n",
      "ENCFF717QSC\n",
      "ENCFF727HFV\n",
      "ENCFF416QZR\n",
      "ENCFF047CHH\n",
      "ENCFF682RBA\n",
      "ENCFF246POE\n",
      "ENCFF871EKB\n",
      "ENCFF262FHU\n",
      "merge\n"
     ]
    },
    {
     "data": {
      "text/plain": [
       "0"
      ]
     },
     "execution_count": 6,
     "metadata": {},
     "output_type": "execute_result"
    }
   ],
   "source": [
    "import subprocess\n",
    "\n",
    "fmap_bed = '../data/eGFR_fv_hap_1kb_pad.bed'\n",
    "base_dir = '../analysis/encode_dnase_seq_bed'\n",
    "out_dir = '../output/kidney_samples_centroid_analysis'\n",
    "\n",
    "total_fv_peak_file = os.path.join(out_dir, 'total_peaks_intersect_fv_hap_hg19.bed')\n",
    "merged_fv_peak_file = os.path.join(out_dir, 'merged_peaks_intersect_fv_hap_hg19.bed')\n",
    "\n",
    "# Gathering the total peaks throughout all samples\n",
    "# (posited in Hap regions of fine-mapped variants)\n",
    "peak_summit_dic = {}\n",
    "\n",
    "print(\"concatenate\")\n",
    "fo = open(total_fv_peak_file, \"w\")\n",
    "for prefix in sample_dic['embryos_kidney']:\n",
    "    print(prefix)\n",
    "    peak_file = os.path.join(base_dir, \"./%s.gkmqc/%s_hg19_peaks.narrowPeak\" % (prefix, prefix))\n",
    "    lim_bed_file = os.path.join(out_dir, \"%s_intersect_fv_hap_hg19.bed\" % prefix)\n",
    "    os.system(\"bedtools intersect -wa -a %s -b %s | cut -f 1,2,3 > %s\" % (peak_file, fmap_bed, lim_bed_file))\n",
    "    f = open(lim_bed_file)\n",
    "    i = 1\n",
    "    for line in f.readlines():\n",
    "        bid = \"%s_%d\" % (prefix, i)\n",
    "        line_tab = line.split()[:3]\n",
    "        peak_summit_dic[bid] = int(line_tab[1]) + int(line_tab[2]) / 2\n",
    "        fo.write('\\t'.join(line_tab + [bid]) + '\\n')\n",
    "        i += 1\n",
    "    f.close()\n",
    "fo.close()\n",
    "\n",
    "# Merge regions\n",
    "print(\"merge\")\n",
    "merged_fv_peak_file = os.path.join(out_dir, 'merged_peaks_intersect_fv_hap_hg19.bed')\n",
    "stotal_fv_peak_file = os.path.join(out_dir, 'stotal_peaks_intersect_fv_hap_hg19.bed')\n",
    "os.system(\"sort -k1,1 -k2,2n %s > %s\" % (total_fv_peak_file, stotal_fv_peak_file))\n",
    "os.system(\"bedtools merge -i %s -c 4 -o collapse > %s\" % (stotal_fv_peak_file, merged_fv_peak_file))"
   ]
  },
  {
   "cell_type": "code",
   "execution_count": null,
   "metadata": {
    "jupyter": {
     "source_hidden": true
    }
   },
   "outputs": [],
   "source": [
    "prefix_centroid_dist_dic = {}\n",
    "f = open(\"../output/kidney_samples_centroid_analysis/merged_peaks_intersect_fv_hap_hg19.bed\")\n",
    "for line in f.readlines():\n",
    "    prefix_list = []\n",
    "    line_tab  = line.split()\n",
    "    area_anno = \"%s:%s-%s\" % tuple(line_tab[:3])\n",
    "    peak_list = line_tab[-1].split(',')\n",
    "    for panno in peak_list:\n",
    "        prefix, num = panno.split('_')\n",
    "        prefix_list.append(prefix)\n",
    "    if len(prefix_list) != len(set(prefix_list)):\n",
    "        print(\"error: more than two peaks within a sample posited in an aggregated area; %s\" % area_anno)\n",
    "        continue\n",
    "    if len(prefix_list) <= 3:\n",
    "        continue\n",
    "    centroids = list(map(lambda x: int(peak_summit_dic[x]), peak_list))\n",
    "    peak_core = np.median(centroids)\n",
    "    for panno in peak_list:\n",
    "        prefix, num = panno.split('_')\n",
    "        prefix_list.append(prefix)\n",
    "        if not prefix in prefix_centroid_dist_dic:\n",
    "            prefix_centroid_dist_dic[prefix] = {}\n",
    "        prefix_centroid_dist_dic[prefix][area_anno] = abs(peak_core - int(peak_summit_dic[panno]))\n",
    "f.close()"
   ]
  },
  {
   "cell_type": "code",
   "execution_count": 6,
   "metadata": {
    "collapsed": true,
    "execution": {
     "iopub.execute_input": "2021-10-05T15:23:41.599830Z",
     "iopub.status.busy": "2021-10-05T15:23:41.599468Z",
     "iopub.status.idle": "2021-10-05T15:23:41.725054Z",
     "shell.execute_reply": "2021-10-05T15:23:41.724269Z",
     "shell.execute_reply.started": "2021-10-05T15:23:41.599798Z"
    },
    "jupyter": {
     "outputs_hidden": true,
     "source_hidden": true
    }
   },
   "outputs": [
    {
     "name": "stdout",
     "output_type": "stream",
     "text": [
      "concatenate\n",
      "ENCFF153WQN\n",
      "ENCFF183AEI\n",
      "ENCFF578BEO\n",
      "ENCFF812GJU\n",
      "ENCFF765BJR\n",
      "ENCFF036JUB\n",
      "ENCFF484XHW\n",
      "ENCFF270GNM\n",
      "ENCFF402THI\n",
      "ENCFF305WVB\n",
      "ENCFF932ATD\n",
      "ENCFF916NTG\n",
      "ENCFF845VOI\n",
      "ENCFF418BQS\n",
      "ENCFF579PHD\n",
      "ENCFF281XUZ\n",
      "ENCFF018UIV\n",
      "ENCFF787FBC\n",
      "ENCFF973CLH\n",
      "ENCFF292LZY\n",
      "ENCFF804HVH\n",
      "ENCFF003GPD\n",
      "ENCFF603QCZ\n",
      "ENCFF870ASQ\n",
      "ENCFF426FAC\n",
      "ENCFF929WJR\n",
      "ENCFF137EPX\n",
      "ENCFF717QSC\n",
      "ENCFF727HFV\n",
      "ENCFF416QZR\n",
      "ENCFF047CHH\n",
      "ENCFF682RBA\n",
      "ENCFF246POE\n",
      "ENCFF871EKB\n",
      "ENCFF262FHU\n"
     ]
    }
   ],
   "source": [
    "import subprocess\n",
    "\n",
    "fmap_bed = '../../data/eGFR_fv_hap_1kb_pad.bed'\n",
    "base_dir = '../../analysis/encode_dnase_seq_bed'\n",
    "out_dir = '../../output/kidney_samples_centroid_analysis'\n",
    "\n",
    "total_fv_peak_file = os.path.join(out_dir, 'total_peaks_intersect_fv_hap_hg19.bed')\n",
    "merged_fv_peak_file = os.path.join(out_dir, 'merged_peaks_intersect_fv_hap_hg19.bed')\n",
    "\n",
    "# Gathering the total peaks throughout all samples\n",
    "# (posited in Hap regions of fine-mapped variants)\n",
    "peak_summit_dic = {}\n",
    "\n",
    "print(\"concatenate\")\n",
    "for prefix in sample_dic['embryos_kidney']:\n",
    "    print(prefix)\n",
    "    lim_bed_file = os.path.join(out_dir, \"%s_intersect_fv_hap_hg19.bed\" % prefix)\n",
    "    f = open(lim_bed_file)\n",
    "    i = 1\n",
    "    for line in f.readlines():\n",
    "        bid = \"%s_%d\" % (prefix, i)\n",
    "        line_tab = line.split()[:3]\n",
    "        peak_summit_dic[bid] = int(line_tab[1]) + int(line_tab[2]) / 2\n",
    "        i += 1\n",
    "    f.close()"
   ]
  },
  {
   "cell_type": "code",
   "execution_count": 7,
   "metadata": {
    "collapsed": true,
    "execution": {
     "iopub.execute_input": "2021-10-05T15:23:50.842620Z",
     "iopub.status.busy": "2021-10-05T15:23:50.841900Z",
     "iopub.status.idle": "2021-10-05T15:23:50.910066Z",
     "shell.execute_reply": "2021-10-05T15:23:50.909141Z",
     "shell.execute_reply.started": "2021-10-05T15:23:50.842584Z"
    },
    "jupyter": {
     "outputs_hidden": true,
     "source_hidden": true
    }
   },
   "outputs": [
    {
     "name": "stdout",
     "output_type": "stream",
     "text": [
      "error: more than two peaks within a sample posited in an aggregated area; chr1:18807049-18807539\n",
      "error: more than two peaks within a sample posited in an aggregated area; chr1:18807569-18808057\n",
      "error: more than two peaks within a sample posited in an aggregated area; chr1:18808769-18809069\n",
      "error: more than two peaks within a sample posited in an aggregated area; chr1:113256957-113257437\n",
      "error: more than two peaks within a sample posited in an aggregated area; chr12:48743243-48743573\n",
      "error: more than two peaks within a sample posited in an aggregated area; chr12:48744098-48744868\n",
      "error: more than two peaks within a sample posited in an aggregated area; chr12:48746131-48746431\n",
      "error: more than two peaks within a sample posited in an aggregated area; chr13:50654864-50655961\n",
      "error: more than two peaks within a sample posited in an aggregated area; chr13:50656551-50657021\n",
      "error: more than two peaks within a sample posited in an aggregated area; chr14:100751692-100752242\n",
      "error: more than two peaks within a sample posited in an aggregated area; chr15:76304436-76304886\n",
      "error: more than two peaks within a sample posited in an aggregated area; chr16:1997416-1997791\n",
      "error: more than two peaks within a sample posited in an aggregated area; chr16:3746344-3746605\n",
      "error: more than two peaks within a sample posited in an aggregated area; chr16:73026168-73026489\n",
      "error: more than two peaks within a sample posited in an aggregated area; chr17:37908648-37909147\n",
      "error: more than two peaks within a sample posited in an aggregated area; chr18:77154955-77155405\n",
      "error: more than two peaks within a sample posited in an aggregated area; chr18:77157335-77158045\n",
      "error: more than two peaks within a sample posited in an aggregated area; chr19:49217084-49217800\n",
      "error: more than two peaks within a sample posited in an aggregated area; chr2:15782939-15783530\n",
      "error: more than two peaks within a sample posited in an aggregated area; chr2:40679015-40680065\n",
      "error: more than two peaks within a sample posited in an aggregated area; chr2:176984723-176985293\n",
      "error: more than two peaks within a sample posited in an aggregated area; chr2:176986443-176986833\n",
      "error: more than two peaks within a sample posited in an aggregated area; chr2:176987183-176987514\n",
      "error: more than two peaks within a sample posited in an aggregated area; chr2:176988003-176988453\n",
      "error: more than two peaks within a sample posited in an aggregated area; chr2:176993528-176993973\n",
      "error: more than two peaks within a sample posited in an aggregated area; chr2:176994143-176994563\n",
      "error: more than two peaks within a sample posited in an aggregated area; chr20:52789674-52790104\n",
      "error: more than two peaks within a sample posited in an aggregated area; chr20:52790174-52791024\n",
      "error: more than two peaks within a sample posited in an aggregated area; chr21:35356511-35356859\n",
      "error: more than two peaks within a sample posited in an aggregated area; chr4:77409706-77410038\n",
      "error: more than two peaks within a sample posited in an aggregated area; chr4:77410048-77410395\n",
      "error: more than two peaks within a sample posited in an aggregated area; chr5:39420917-39421277\n",
      "error: more than two peaks within a sample posited in an aggregated area; chr5:53304215-53304572\n",
      "error: more than two peaks within a sample posited in an aggregated area; chr6:43807152-43807452\n",
      "error: more than two peaks within a sample posited in an aggregated area; chr6:160675658-160676157\n",
      "error: more than two peaks within a sample posited in an aggregated area; chr7:1284351-1285081\n",
      "error: more than two peaks within a sample posited in an aggregated area; chr7:1285091-1285701\n",
      "error: more than two peaks within a sample posited in an aggregated area; chr7:1285880-1286445\n",
      "error: more than two peaks within a sample posited in an aggregated area; chr7:1286551-1287081\n",
      "error: more than two peaks within a sample posited in an aggregated area; chr7:128577869-128578369\n",
      "error: more than two peaks within a sample posited in an aggregated area; chr7:128578494-128579079\n",
      "error: more than two peaks within a sample posited in an aggregated area; chr8:126478737-126479407\n"
     ]
    }
   ],
   "source": [
    "prefix_centroid_dist_dic = {}\n",
    "f = open(\"../../output/kidney_samples_centroid_analysis/merged_peaks_intersect_fv_hap_hg19.bed\")\n",
    "for line in f.readlines():\n",
    "    prefix_list = []\n",
    "    line_tab  = line.split()\n",
    "    area_anno = \"%s:%s-%s\" % tuple(line_tab[:3])\n",
    "    peak_list = line_tab[-1].split(',')\n",
    "    for panno in peak_list:\n",
    "        prefix, num = panno.split('_')\n",
    "        prefix_list.append(prefix)\n",
    "    if len(prefix_list) != len(set(prefix_list)):\n",
    "        print(\"error: more than two peaks within a sample posited in an aggregated area; %s\" % area_anno)\n",
    "        continue\n",
    "    if len(prefix_list) <= 3:\n",
    "        continue\n",
    "    centroids = list(map(lambda x: int(peak_summit_dic[x]), peak_list))\n",
    "    peak_core = np.median(centroids)\n",
    "    for panno in peak_list:\n",
    "        prefix, num = panno.split('_')\n",
    "        prefix_list.append(prefix)\n",
    "        if not prefix in prefix_centroid_dist_dic:\n",
    "            prefix_centroid_dist_dic[prefix] = {}\n",
    "        prefix_centroid_dist_dic[prefix][area_anno] = abs(peak_core - int(peak_summit_dic[panno]))\n",
    "f.close()"
   ]
  },
  {
   "cell_type": "code",
   "execution_count": 14,
   "metadata": {
    "collapsed": true,
    "execution": {
     "iopub.execute_input": "2020-09-28T05:23:18.843271Z",
     "iopub.status.busy": "2020-09-28T05:23:18.842725Z",
     "iopub.status.idle": "2020-09-28T05:23:18.883568Z",
     "shell.execute_reply": "2020-09-28T05:23:18.882855Z",
     "shell.execute_reply.started": "2020-09-28T05:23:18.843205Z"
    },
    "jupyter": {
     "outputs_hidden": true,
     "source_hidden": true
    }
   },
   "outputs": [
    {
     "name": "stdout",
     "output_type": "stream",
     "text": [
      "ENCFF153WQN 0.027474751111110664 41.72826086956522 46\n",
      "ENCFF183AEI 0.011551252222223887 19.32456140350877 57\n",
      "ENCFF578BEO 0.011013015555553944 25.923728813559322 59\n",
      "ENCFF812GJU 0.009765128888888887 14.90625 64\n",
      "ENCFF765BJR 0.014315561980644226 22.46153846153846 13\n",
      "ENCFF036JUB 0.012013213333333002 22.795454545454547 22\n",
      "ENCFF484XHW 0.011303462160682136 24.023809523809526 21\n",
      "ENCFF270GNM 0.015316737697269992 24.0 14\n",
      "ENCFF402THI 0.01207503000000022 24.652542372881356 59\n",
      "ENCFF305WVB 0.011190777777778334 23.798076923076923 52\n",
      "ENCFF932ATD 0.022174014 45.0 8\n",
      "ENCFF916NTG 0.02879794666666755 43.285714285714285 7\n",
      "ENCFF845VOI 0.010590247777777555 15.485714285714286 35\n",
      "ENCFF418BQS 0.018667064645862836 15.142857142857142 7\n",
      "ENCFF579PHD 0.021890483636365 37.875 8\n",
      "ENCFF281XUZ 0.022234019935259898 47.85 10\n",
      "ENCFF018UIV 0.019164443999999003 84.83333333333333 6\n",
      "ENCFF787FBC 0.010221446666667664 15.992537313432836 67\n",
      "ENCFF973CLH 0.011254535555556333 13.23076923076923 26\n",
      "ENCFF292LZY 0.01124440888888989 23.083333333333332 24\n",
      "ENCFF804HVH 0.009461626819017997 21.475 20\n",
      "ENCFF003GPD 0.012034345555557609 12.227272727272727 22\n",
      "ENCFF603QCZ 0.01944264166666876 41.041666666666664 12\n",
      "ENCFF870ASQ 0.014613395109243532 24.25 12\n",
      "ENCFF426FAC 0.019572388333331924 42.666666666666664 9\n",
      "ENCFF929WJR 0.01526078142857321 21.307692307692307 13\n",
      "ENCFF137EPX 0.012609699550812752 17.941176470588236 17\n",
      "ENCFF717QSC 0.01102359333333328 13.318181818181818 22\n",
      "ENCFF727HFV 0.01711569502541317 19.115384615384617 13\n",
      "ENCFF416QZR 0.011529932222222273 24.785714285714285 14\n",
      "ENCFF047CHH 0.011277092222223055 8.394736842105264 19\n",
      "ENCFF682RBA 0.018979337777776335 71.76923076923077 39\n",
      "ENCFF246POE 0.019549831666666583 21.85 10\n",
      "ENCFF871EKB 0.018639660000000752 17.0 8\n",
      "ENCFF262FHU 0.030575006666663334 35.666666666666664 6\n"
     ]
    }
   ],
   "source": [
    "sfactor = 4.0\n",
    "x = []\n",
    "y = []\n",
    "y2 = []\n",
    "z = []\n",
    "w = []\n",
    "for prefix in sample_dic['embryos_kidney']:\n",
    "    try:\n",
    "        dauc = prefix_gkmqn_dic[prefix]\n",
    "        dist = np.mean(list(prefix_centroid_dist_dic[prefix].values()))\n",
    "        covr = len(list(prefix_centroid_dist_dic[prefix]))\n",
    "        x.append(dauc)\n",
    "        y.append(dist)\n",
    "        y2.append(covr * 2.0)\n",
    "        z.append(prefix_pcount_dic[prefix])\n",
    "        w.append(prefix_spot2_dic[prefix])\n",
    "        print(prefix, dauc, dist, covr)\n",
    "    except:\n",
    "        print(prefix)\n",
    "        continue"
   ]
  },
  {
   "cell_type": "code",
   "execution_count": 10,
   "metadata": {
    "execution": {
     "iopub.execute_input": "2021-10-05T15:24:23.112688Z",
     "iopub.status.busy": "2021-10-05T15:24:23.112050Z",
     "iopub.status.idle": "2021-10-05T15:24:23.149425Z",
     "shell.execute_reply": "2021-10-05T15:24:23.148676Z",
     "shell.execute_reply.started": "2021-10-05T15:24:23.112656Z"
    }
   },
   "outputs": [
    {
     "name": "stdout",
     "output_type": "stream",
     "text": [
      "ENCFF153WQN 48.13488829345446 41.72826086956522 46\n",
      "ENCFF183AEI 76.08274292915883 19.32456140350877 57\n",
      "ENCFF578BEO 81.4061046353958 25.923728813559322 59\n",
      "ENCFF812GJU 92.69057562646975 14.90625 64\n",
      "ENCFF765BJR 64.09457597145233 22.46153846153846 13\n",
      "ENCFF036JUB 74.0952902600232 22.795454545454547 22\n",
      "ENCFF484XHW 81.64025729944667 24.023809523809526 21\n",
      "ENCFF270GNM 60.487604967665106 24.0 14\n",
      "ENCFF402THI 72.58363866958759 24.652542372881356 59\n",
      "ENCFF305WVB 79.05263729062258 23.798076923076923 52\n",
      "ENCFF932ATD 43.147250651010154 45.0 8\n",
      "ENCFF916NTG 28.38733035536922 43.285714285714285 7\n",
      "ENCFF845VOI 85.29911743750215 15.485714285714286 35\n",
      "ENCFF418BQS 48.69543092423336 15.142857142857142 7\n",
      "ENCFF579PHD 44.91450257682123 37.875 8\n",
      "ENCFF281XUZ 42.66176304719807 47.85 10\n",
      "ENCFF018UIV 49.79102303975255 84.83333333333333 6\n",
      "ENCFF787FBC 87.92498517821518 15.992537313432836 67\n",
      "ENCFF973CLH 79.69154529501738 13.23076923076923 26\n",
      "ENCFF292LZY 79.5453145701578 23.083333333333332 24\n",
      "ENCFF804HVH 95.40030511337463 21.475 20\n",
      "ENCFF003GPD 73.42957716113334 12.227272727272727 22\n",
      "ENCFF603QCZ 49.36318392455001 41.041666666666664 12\n",
      "ENCFF870ASQ 63.122928781514965 24.25 12\n",
      "ENCFF426FAC 45.95412746852119 42.666666666666664 9\n",
      "ENCFF929WJR 59.437861026956185 21.307692307692307 13\n",
      "ENCFF137EPX 71.48646459154422 17.941176470588236 17\n",
      "ENCFF717QSC 81.64797100844557 13.318181818181818 22\n",
      "ENCFF727HFV 54.267171364965854 19.115384615384617 13\n",
      "ENCFF416QZR 76.77818921360112 24.785714285714285 14\n",
      "ENCFF047CHH 78.99376868524338 8.394736842105264 19\n",
      "ENCFF682RBA 63.449226528630454 71.76923076923077 39\n",
      "ENCFF246POE 49.635344484647774 21.85 10\n",
      "ENCFF871EKB 48.76972174742639 17.0 8\n",
      "ENCFF262FHU 33.690014303122965 35.666666666666664 6\n"
     ]
    }
   ],
   "source": [
    "sfactor = 4.0\n",
    "p = []\n",
    "x = []\n",
    "y = []\n",
    "y2 = []\n",
    "z = []\n",
    "w = []\n",
    "for prefix in sample_dic['embryos_kidney']:\n",
    "    try:\n",
    "        dauc = prefix_gkmqc_dic[prefix][4]\n",
    "        dist = np.mean(list(prefix_centroid_dist_dic[prefix].values()))\n",
    "        covr = len(list(prefix_centroid_dist_dic[prefix]))\n",
    "        p.append(prefix)\n",
    "        x.append(dauc)\n",
    "        y.append(dist)\n",
    "        y2.append(covr * 2.0)\n",
    "        z.append(prefix_pcount_dic[prefix])\n",
    "        w.append(prefix_spot2_dic[prefix])\n",
    "        print(prefix, dauc, dist, covr)\n",
    "    except:\n",
    "        print(prefix)\n",
    "        continue"
   ]
  },
  {
   "cell_type": "code",
   "execution_count": 17,
   "metadata": {
    "execution": {
     "iopub.execute_input": "2021-10-05T15:37:02.778370Z",
     "iopub.status.busy": "2021-10-05T15:37:02.778014Z",
     "iopub.status.idle": "2021-10-05T15:37:03.141768Z",
     "shell.execute_reply": "2021-10-05T15:37:03.141009Z",
     "shell.execute_reply.started": "2021-10-05T15:37:02.778339Z"
    }
   },
   "outputs": [
    {
     "data": {
      "text/plain": [
       "SpearmanrResult(correlation=-0.5717086834733894, pvalue=0.00033368601385215123)"
      ]
     },
     "execution_count": 17,
     "metadata": {},
     "output_type": "execute_result"
    },
    {
     "data": {
      "image/png": "[encoded data removed]",
      "text/plain": [
       "<Figure size 576x576 with 1 Axes>"
      ]
     },
     "metadata": {
      "needs_background": "light"
     },
     "output_type": "display_data"
    }
   ],
   "source": [
    "from scipy.stats import pearsonr, spearmanr\n",
    "\n",
    "plt.figure(figsize=(8, 8))\n",
    "scatter(x, y, s=y2, c=\"grey\")\n",
    "xlabel(\"gkmQC alt score\")\n",
    "ylabel(\"centroids of peaks nearby [bp]\")\n",
    "scatter([75, 82.5, 90], [80, 80, 80], s=[10 * sfactor, 30 * sfactor, 50 * sfactor])\n",
    "# Backup codes for annotating dots\n",
    "#for i, txt in enumerate(p):\n",
    "#    plt.annotate(txt, (x[i], y[i]))\n",
    "plt.gca().invert_yaxis()\n",
    "plt.savefig(\"../output/Figure_3D.pdf\")\n",
    "spearmanr(x, y)"
   ]
  },
  {
   "cell_type": "code",
   "execution_count": 18,
   "metadata": {
    "execution": {
     "iopub.execute_input": "2021-09-30T18:44:44.102137Z",
     "iopub.status.busy": "2021-09-30T18:44:44.101744Z",
     "iopub.status.idle": "2021-09-30T18:44:44.340476Z",
     "shell.execute_reply": "2021-09-30T18:44:44.339198Z",
     "shell.execute_reply.started": "2021-09-30T18:44:44.102105Z"
    }
   },
   "outputs": [
    {
     "data": {
      "text/plain": [
       "SpearmanrResult(correlation=-0.4033895940979953, pvalue=0.016264857133648607)"
      ]
     },
     "execution_count": 18,
     "metadata": {},
     "output_type": "execute_result"
    },
    {
     "data": {
      "image/png": "[encoded data removed]",
      "text/plain": [
       "<Figure size 576x576 with 1 Axes>"
      ]
     },
     "metadata": {
      "needs_background": "light"
     },
     "output_type": "display_data"
    }
   ],
   "source": [
    "plt.figure(figsize=(8, 8))\n",
    "scatter(w, y, s=y2, c=\"grey\")\n",
    "xlabel(\"SPOT2 score\")\n",
    "ylabel(\"centroids of peaks nearby [bp]\")\n",
    "plt.savefig(\"../output/Figure_3E.pdf\")\n",
    "spearmanr(w, y)"
   ]
  }
 ],
 "metadata": {
  "kernelspec": {
   "display_name": "Python 3",
   "language": "python",
   "name": "python3"
  },
  "language_info": {
   "codemirror_mode": {
    "name": "ipython",
    "version": 3
   },
   "file_extension": ".py",
   "mimetype": "text/x-python",
   "name": "python",
   "nbconvert_exporter": "python",
   "pygments_lexer": "ipython3",
   "version": "3.7.6"
  }
 },
 "nbformat": 4,
 "nbformat_minor": 4
}
